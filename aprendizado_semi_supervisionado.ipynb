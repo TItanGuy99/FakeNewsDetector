{
  "cells": [
    {
      "cell_type": "code",
      "execution_count": 1,
      "id": "0242fc84",
      "metadata": {
        "id": "0242fc84"
      },
      "outputs": [],
      "source": [
        "import pandas as pd\n",
        "import numpy as np\n",
        "import seaborn as sns\n",
        "import matplotlib.pyplot as plt\n",
        "from sklearn import metrics\n",
        "from sklearn.model_selection import train_test_split\n",
        "from sklearn.metrics import accuracy_score\n",
        "from sklearn.metrics import classification_report\n",
        "from sklearn.metrics import confusion_matrix\n",
        "import re\n",
        "import string"
      ]
    },
    {
      "cell_type": "markdown",
      "id": "75b2537c",
      "metadata": {
        "id": "75b2537c"
      },
      "source": [
        "### Criando a função para gerar a matrix de confusão"
      ]
    },
    {
      "cell_type": "code",
      "execution_count": 2,
      "id": "790b8d8c",
      "metadata": {
        "id": "790b8d8c"
      },
      "outputs": [],
      "source": [
        "def make_confusion_matrix(cf,\n",
        "                          group_names=None,\n",
        "                          categories='auto',\n",
        "                          count=True,\n",
        "                          percent=True,\n",
        "                          cbar=True,\n",
        "                          xyticks=True,\n",
        "                          xyplotlabels=True,\n",
        "                          sum_stats=True,\n",
        "                          figsize=None,\n",
        "                          cmap='Blues',\n",
        "                          title=None):\n",
        "    '''\n",
        "    This function will make a pretty plot of an sklearn Confusion Matrix cm using a Seaborn heatmap visualization.\n",
        "    Arguments\n",
        "    ---------\n",
        "    cf:            confusion matrix to be passed in\n",
        "    group_names:   List of strings that represent the labels row by row to be shown in each square.\n",
        "    categories:    List of strings containing the categories to be displayed on the x,y axis. Default is 'auto'\n",
        "    count:         If True, show the raw number in the confusion matrix. Default is True.\n",
        "    normalize:     If True, show the proportions for each category. Default is True.\n",
        "    cbar:          If True, show the color bar. The cbar values are based off the values in the confusion matrix.\n",
        "                   Default is True.\n",
        "    xyticks:       If True, show x and y ticks. Default is True.\n",
        "    xyplotlabels:  If True, show 'True Label' and 'Predicted Label' on the figure. Default is True.\n",
        "    sum_stats:     If True, display summary statistics below the figure. Default is True.\n",
        "    figsize:       Tuple representing the figure size. Default will be the matplotlib rcParams value.\n",
        "    cmap:          Colormap of the values displayed from matplotlib.pyplot.cm. Default is 'Blues'\n",
        "                   See http://matplotlib.org/examples/color/colormaps_reference.html\n",
        "\n",
        "    title:         Title for the heatmap. Default is None.\n",
        "    '''\n",
        "\n",
        "\n",
        "    # CODE TO GENERATE TEXT INSIDE EACH SQUARE\n",
        "    blanks = ['' for i in range(cf.size)]\n",
        "\n",
        "    if group_names and len(group_names)==cf.size:\n",
        "        group_labels = [\"{}\\n\".format(value) for value in group_names]\n",
        "    else:\n",
        "        group_labels = blanks\n",
        "\n",
        "    if count:\n",
        "        group_counts = [\"{0:0.0f}\\n\".format(value) for value in cf.flatten()]\n",
        "    else:\n",
        "        group_counts = blanks\n",
        "\n",
        "    if percent:\n",
        "        group_percentages = [\"{0:.2%}\".format(value) for value in cf.flatten()/np.sum(cf)]\n",
        "    else:\n",
        "        group_percentages = blanks\n",
        "\n",
        "    box_labels = [f\"{v1}{v2}{v3}\".strip() for v1, v2, v3 in zip(group_labels,group_counts,group_percentages)]\n",
        "    box_labels = np.asarray(box_labels).reshape(cf.shape[0],cf.shape[1])\n",
        "\n",
        "\n",
        "    # CODE TO GENERATE SUMMARY STATISTICS & TEXT FOR SUMMARY STATS\n",
        "    if sum_stats:\n",
        "        #Accuracy is sum of diagonal divided by total observations\n",
        "        accuracy  = np.trace(cf) / float(np.sum(cf))\n",
        "\n",
        "        #if it is a binary confusion matrix, show some more stats\n",
        "        if len(cf)==2:\n",
        "            #Metrics for Binary Confusion Matrices\n",
        "            precision = cf[1,1] / sum(cf[:,1])\n",
        "            recall    = cf[1,1] / sum(cf[1,:])\n",
        "            f1_score  = 2*precision*recall / (precision + recall)\n",
        "            stats_text = \"\\n\\nAccuracy={:0.3f}\\nPrecision={:0.3f}\\nRecall={:0.3f}\\nF1 Score={:0.3f}\".format(\n",
        "                accuracy,precision,recall,f1_score)\n",
        "        else:\n",
        "            stats_text = \"\\n\\nAccuracy={:0.3f}\".format(accuracy)\n",
        "    else:\n",
        "        stats_text = \"\"\n",
        "\n",
        "\n",
        "    # SET FIGURE PARAMETERS ACCORDING TO OTHER ARGUMENTS\n",
        "    if figsize==None:\n",
        "        #Get default figure size if not set\n",
        "        figsize = plt.rcParams.get('figure.figsize')\n",
        "\n",
        "    if xyticks==False:\n",
        "        #Do not show categories if xyticks is False\n",
        "        categories=False\n",
        "\n",
        "\n",
        "    # MAKE THE HEATMAP VISUALIZATION\n",
        "    plt.figure(figsize=figsize)\n",
        "    sns.heatmap(cf,annot=box_labels,fmt=\"\",cmap=cmap,cbar=cbar,xticklabels=categories,yticklabels=categories)\n",
        "\n",
        "    if xyplotlabels:\n",
        "        plt.ylabel('True label')\n",
        "        plt.xlabel('Predicted label' + stats_text)\n",
        "    else:\n",
        "        plt.xlabel(stats_text)\n",
        "\n",
        "    if title:\n",
        "        plt.title(title)"
      ]
    },
    {
      "cell_type": "markdown",
      "id": "4364b112",
      "metadata": {
        "id": "4364b112"
      },
      "source": [
        "### Importing the DataSet"
      ]
    },
    {
      "cell_type": "code",
      "execution_count": 3,
      "id": "04a10639",
      "metadata": {
        "colab": {
          "base_uri": "https://localhost:8080/"
        },
        "id": "04a10639",
        "outputId": "69e59cdf-6671-49d7-ec5e-098f7353362f"
      },
      "outputs": [],
      "source": [
        "\n",
        "\n",
        "df_fake = pd.read_csv(\"Fake.csv\")\n",
        "df_true = pd.read_csv(\"True.csv\")\n"
      ]
    },
    {
      "cell_type": "code",
      "execution_count": 4,
      "id": "f4b1996a",
      "metadata": {
        "colab": {
          "base_uri": "https://localhost:8080/",
          "height": 337
        },
        "id": "f4b1996a",
        "outputId": "1a88158e-b69b-4472-ca3a-44b766f7884d"
      },
      "outputs": [
        {
          "data": {
            "text/html": [
              "<div>\n",
              "<style scoped>\n",
              "    .dataframe tbody tr th:only-of-type {\n",
              "        vertical-align: middle;\n",
              "    }\n",
              "\n",
              "    .dataframe tbody tr th {\n",
              "        vertical-align: top;\n",
              "    }\n",
              "\n",
              "    .dataframe thead th {\n",
              "        text-align: right;\n",
              "    }\n",
              "</style>\n",
              "<table border=\"1\" class=\"dataframe\">\n",
              "  <thead>\n",
              "    <tr style=\"text-align: right;\">\n",
              "      <th></th>\n",
              "      <th>title</th>\n",
              "      <th>text</th>\n",
              "      <th>subject</th>\n",
              "      <th>date</th>\n",
              "    </tr>\n",
              "  </thead>\n",
              "  <tbody>\n",
              "    <tr>\n",
              "      <th>0</th>\n",
              "      <td>Donald Trump Sends Out Embarrassing New Year’...</td>\n",
              "      <td>Donald Trump just couldn t wish all Americans ...</td>\n",
              "      <td>News</td>\n",
              "      <td>December 31, 2017</td>\n",
              "    </tr>\n",
              "    <tr>\n",
              "      <th>1</th>\n",
              "      <td>Drunk Bragging Trump Staffer Started Russian ...</td>\n",
              "      <td>House Intelligence Committee Chairman Devin Nu...</td>\n",
              "      <td>News</td>\n",
              "      <td>December 31, 2017</td>\n",
              "    </tr>\n",
              "    <tr>\n",
              "      <th>2</th>\n",
              "      <td>Sheriff David Clarke Becomes An Internet Joke...</td>\n",
              "      <td>On Friday, it was revealed that former Milwauk...</td>\n",
              "      <td>News</td>\n",
              "      <td>December 30, 2017</td>\n",
              "    </tr>\n",
              "    <tr>\n",
              "      <th>3</th>\n",
              "      <td>Trump Is So Obsessed He Even Has Obama’s Name...</td>\n",
              "      <td>On Christmas day, Donald Trump announced that ...</td>\n",
              "      <td>News</td>\n",
              "      <td>December 29, 2017</td>\n",
              "    </tr>\n",
              "    <tr>\n",
              "      <th>4</th>\n",
              "      <td>Pope Francis Just Called Out Donald Trump Dur...</td>\n",
              "      <td>Pope Francis used his annual Christmas Day mes...</td>\n",
              "      <td>News</td>\n",
              "      <td>December 25, 2017</td>\n",
              "    </tr>\n",
              "  </tbody>\n",
              "</table>\n",
              "</div>"
            ],
            "text/plain": [
              "                                               title   \n",
              "0   Donald Trump Sends Out Embarrassing New Year’...  \\\n",
              "1   Drunk Bragging Trump Staffer Started Russian ...   \n",
              "2   Sheriff David Clarke Becomes An Internet Joke...   \n",
              "3   Trump Is So Obsessed He Even Has Obama’s Name...   \n",
              "4   Pope Francis Just Called Out Donald Trump Dur...   \n",
              "\n",
              "                                                text subject   \n",
              "0  Donald Trump just couldn t wish all Americans ...    News  \\\n",
              "1  House Intelligence Committee Chairman Devin Nu...    News   \n",
              "2  On Friday, it was revealed that former Milwauk...    News   \n",
              "3  On Christmas day, Donald Trump announced that ...    News   \n",
              "4  Pope Francis used his annual Christmas Day mes...    News   \n",
              "\n",
              "                date  \n",
              "0  December 31, 2017  \n",
              "1  December 31, 2017  \n",
              "2  December 30, 2017  \n",
              "3  December 29, 2017  \n",
              "4  December 25, 2017  "
            ]
          },
          "execution_count": 4,
          "metadata": {},
          "output_type": "execute_result"
        }
      ],
      "source": [
        "df_fake.head()"
      ]
    },
    {
      "cell_type": "code",
      "execution_count": 5,
      "id": "60775b58",
      "metadata": {
        "colab": {
          "base_uri": "https://localhost:8080/",
          "height": 337
        },
        "id": "60775b58",
        "outputId": "8f3cbe0f-8be8-42ac-b587-a5f47c1e184d"
      },
      "outputs": [
        {
          "data": {
            "text/html": [
              "<div>\n",
              "<style scoped>\n",
              "    .dataframe tbody tr th:only-of-type {\n",
              "        vertical-align: middle;\n",
              "    }\n",
              "\n",
              "    .dataframe tbody tr th {\n",
              "        vertical-align: top;\n",
              "    }\n",
              "\n",
              "    .dataframe thead th {\n",
              "        text-align: right;\n",
              "    }\n",
              "</style>\n",
              "<table border=\"1\" class=\"dataframe\">\n",
              "  <thead>\n",
              "    <tr style=\"text-align: right;\">\n",
              "      <th></th>\n",
              "      <th>title</th>\n",
              "      <th>text</th>\n",
              "      <th>subject</th>\n",
              "      <th>date</th>\n",
              "    </tr>\n",
              "  </thead>\n",
              "  <tbody>\n",
              "    <tr>\n",
              "      <th>0</th>\n",
              "      <td>As U.S. budget fight looms, Republicans flip t...</td>\n",
              "      <td>WASHINGTON (Reuters) - The head of a conservat...</td>\n",
              "      <td>politicsNews</td>\n",
              "      <td>December 31, 2017</td>\n",
              "    </tr>\n",
              "    <tr>\n",
              "      <th>1</th>\n",
              "      <td>U.S. military to accept transgender recruits o...</td>\n",
              "      <td>WASHINGTON (Reuters) - Transgender people will...</td>\n",
              "      <td>politicsNews</td>\n",
              "      <td>December 29, 2017</td>\n",
              "    </tr>\n",
              "    <tr>\n",
              "      <th>2</th>\n",
              "      <td>Senior U.S. Republican senator: 'Let Mr. Muell...</td>\n",
              "      <td>WASHINGTON (Reuters) - The special counsel inv...</td>\n",
              "      <td>politicsNews</td>\n",
              "      <td>December 31, 2017</td>\n",
              "    </tr>\n",
              "    <tr>\n",
              "      <th>3</th>\n",
              "      <td>FBI Russia probe helped by Australian diplomat...</td>\n",
              "      <td>WASHINGTON (Reuters) - Trump campaign adviser ...</td>\n",
              "      <td>politicsNews</td>\n",
              "      <td>December 30, 2017</td>\n",
              "    </tr>\n",
              "    <tr>\n",
              "      <th>4</th>\n",
              "      <td>Trump wants Postal Service to charge 'much mor...</td>\n",
              "      <td>SEATTLE/WASHINGTON (Reuters) - President Donal...</td>\n",
              "      <td>politicsNews</td>\n",
              "      <td>December 29, 2017</td>\n",
              "    </tr>\n",
              "  </tbody>\n",
              "</table>\n",
              "</div>"
            ],
            "text/plain": [
              "                                               title   \n",
              "0  As U.S. budget fight looms, Republicans flip t...  \\\n",
              "1  U.S. military to accept transgender recruits o...   \n",
              "2  Senior U.S. Republican senator: 'Let Mr. Muell...   \n",
              "3  FBI Russia probe helped by Australian diplomat...   \n",
              "4  Trump wants Postal Service to charge 'much mor...   \n",
              "\n",
              "                                                text       subject   \n",
              "0  WASHINGTON (Reuters) - The head of a conservat...  politicsNews  \\\n",
              "1  WASHINGTON (Reuters) - Transgender people will...  politicsNews   \n",
              "2  WASHINGTON (Reuters) - The special counsel inv...  politicsNews   \n",
              "3  WASHINGTON (Reuters) - Trump campaign adviser ...  politicsNews   \n",
              "4  SEATTLE/WASHINGTON (Reuters) - President Donal...  politicsNews   \n",
              "\n",
              "                 date  \n",
              "0  December 31, 2017   \n",
              "1  December 29, 2017   \n",
              "2  December 31, 2017   \n",
              "3  December 30, 2017   \n",
              "4  December 29, 2017   "
            ]
          },
          "execution_count": 5,
          "metadata": {},
          "output_type": "execute_result"
        }
      ],
      "source": [
        "df_true.head(5)"
      ]
    },
    {
      "cell_type": "markdown",
      "id": "6fd5a200",
      "metadata": {
        "id": "6fd5a200"
      },
      "source": [
        "### Inserting a column \"class\" as target feature"
      ]
    },
    {
      "cell_type": "code",
      "execution_count": 6,
      "id": "adc6d575",
      "metadata": {
        "id": "adc6d575"
      },
      "outputs": [],
      "source": [
        "df_fake[\"class\"] = 0\n",
        "df_true[\"class\"] = 1"
      ]
    },
    {
      "cell_type": "code",
      "execution_count": 7,
      "id": "968dca1e",
      "metadata": {
        "colab": {
          "base_uri": "https://localhost:8080/"
        },
        "id": "968dca1e",
        "outputId": "99790857-2cd8-408d-f21e-54d3ab3e0608"
      },
      "outputs": [
        {
          "data": {
            "text/plain": [
              "((23481, 5), (21417, 5))"
            ]
          },
          "execution_count": 7,
          "metadata": {},
          "output_type": "execute_result"
        }
      ],
      "source": [
        "\n",
        "\n",
        "df_fake.shape, df_true.shape"
      ]
    },
    {
      "cell_type": "code",
      "execution_count": 8,
      "id": "df3f4f98",
      "metadata": {
        "id": "df3f4f98"
      },
      "outputs": [],
      "source": [
        "# Removing last 10 rows for manual testing\n",
        "df_fake_manual_testing = df_fake.tail(10)\n",
        "for i in range(23480,23470,-1):\n",
        "    df_fake.drop([i], axis = 0, inplace = True)\n",
        "    \n",
        "    \n",
        "df_true_manual_testing = df_true.tail(10)\n",
        "for i in range(21416,21406,-1):\n",
        "    df_true.drop([i], axis = 0, inplace = True)"
      ]
    },
    {
      "cell_type": "code",
      "execution_count": 9,
      "id": "3d5ec2d3",
      "metadata": {
        "colab": {
          "base_uri": "https://localhost:8080/"
        },
        "id": "3d5ec2d3",
        "outputId": "3ba94c9d-31c3-4acc-a356-ee7ac605e5b7"
      },
      "outputs": [
        {
          "data": {
            "text/plain": [
              "((23471, 5), (21407, 5))"
            ]
          },
          "execution_count": 9,
          "metadata": {},
          "output_type": "execute_result"
        }
      ],
      "source": [
        "\n",
        "\n",
        "df_fake.shape, df_true.shape\n",
        "\n"
      ]
    },
    {
      "cell_type": "code",
      "execution_count": 10,
      "id": "d4031390",
      "metadata": {
        "colab": {
          "base_uri": "https://localhost:8080/"
        },
        "id": "d4031390",
        "outputId": "6e457df8-ea54-418c-ca1d-d2746bed0fbd"
      },
      "outputs": [
        {
          "name": "stderr",
          "output_type": "stream",
          "text": [
            "/tmp/ipykernel_2239088/860779283.py:1: SettingWithCopyWarning: \n",
            "A value is trying to be set on a copy of a slice from a DataFrame.\n",
            "Try using .loc[row_indexer,col_indexer] = value instead\n",
            "\n",
            "See the caveats in the documentation: https://pandas.pydata.org/pandas-docs/stable/user_guide/indexing.html#returning-a-view-versus-a-copy\n",
            "  df_fake_manual_testing[\"class\"] = 0\n",
            "/tmp/ipykernel_2239088/860779283.py:2: SettingWithCopyWarning: \n",
            "A value is trying to be set on a copy of a slice from a DataFrame.\n",
            "Try using .loc[row_indexer,col_indexer] = value instead\n",
            "\n",
            "See the caveats in the documentation: https://pandas.pydata.org/pandas-docs/stable/user_guide/indexing.html#returning-a-view-versus-a-copy\n",
            "  df_true_manual_testing[\"class\"] = 1\n"
          ]
        }
      ],
      "source": [
        "df_fake_manual_testing[\"class\"] = 0\n",
        "df_true_manual_testing[\"class\"] = 1"
      ]
    },
    {
      "cell_type": "code",
      "execution_count": 11,
      "id": "f1f60560",
      "metadata": {
        "colab": {
          "base_uri": "https://localhost:8080/",
          "height": 597
        },
        "id": "f1f60560",
        "outputId": "39b4c6d6-cb7b-4535-d7cb-012ee6098756"
      },
      "outputs": [
        {
          "data": {
            "text/html": [
              "<div>\n",
              "<style scoped>\n",
              "    .dataframe tbody tr th:only-of-type {\n",
              "        vertical-align: middle;\n",
              "    }\n",
              "\n",
              "    .dataframe tbody tr th {\n",
              "        vertical-align: top;\n",
              "    }\n",
              "\n",
              "    .dataframe thead th {\n",
              "        text-align: right;\n",
              "    }\n",
              "</style>\n",
              "<table border=\"1\" class=\"dataframe\">\n",
              "  <thead>\n",
              "    <tr style=\"text-align: right;\">\n",
              "      <th></th>\n",
              "      <th>title</th>\n",
              "      <th>text</th>\n",
              "      <th>subject</th>\n",
              "      <th>date</th>\n",
              "      <th>class</th>\n",
              "    </tr>\n",
              "  </thead>\n",
              "  <tbody>\n",
              "    <tr>\n",
              "      <th>23471</th>\n",
              "      <td>Seven Iranians freed in the prisoner swap have...</td>\n",
              "      <td>21st Century Wire says This week, the historic...</td>\n",
              "      <td>Middle-east</td>\n",
              "      <td>January 20, 2016</td>\n",
              "      <td>0</td>\n",
              "    </tr>\n",
              "    <tr>\n",
              "      <th>23472</th>\n",
              "      <td>#Hashtag Hell &amp; The Fake Left</td>\n",
              "      <td>By Dady Chery and Gilbert MercierAll writers ...</td>\n",
              "      <td>Middle-east</td>\n",
              "      <td>January 19, 2016</td>\n",
              "      <td>0</td>\n",
              "    </tr>\n",
              "    <tr>\n",
              "      <th>23473</th>\n",
              "      <td>Astroturfing: Journalist Reveals Brainwashing ...</td>\n",
              "      <td>Vic Bishop Waking TimesOur reality is carefull...</td>\n",
              "      <td>Middle-east</td>\n",
              "      <td>January 19, 2016</td>\n",
              "      <td>0</td>\n",
              "    </tr>\n",
              "    <tr>\n",
              "      <th>23474</th>\n",
              "      <td>The New American Century: An Era of Fraud</td>\n",
              "      <td>Paul Craig RobertsIn the last years of the 20t...</td>\n",
              "      <td>Middle-east</td>\n",
              "      <td>January 19, 2016</td>\n",
              "      <td>0</td>\n",
              "    </tr>\n",
              "    <tr>\n",
              "      <th>23475</th>\n",
              "      <td>Hillary Clinton: ‘Israel First’ (and no peace ...</td>\n",
              "      <td>Robert Fantina CounterpunchAlthough the United...</td>\n",
              "      <td>Middle-east</td>\n",
              "      <td>January 18, 2016</td>\n",
              "      <td>0</td>\n",
              "    </tr>\n",
              "    <tr>\n",
              "      <th>23476</th>\n",
              "      <td>McPain: John McCain Furious That Iran Treated ...</td>\n",
              "      <td>21st Century Wire says As 21WIRE reported earl...</td>\n",
              "      <td>Middle-east</td>\n",
              "      <td>January 16, 2016</td>\n",
              "      <td>0</td>\n",
              "    </tr>\n",
              "    <tr>\n",
              "      <th>23477</th>\n",
              "      <td>JUSTICE? Yahoo Settles E-mail Privacy Class-ac...</td>\n",
              "      <td>21st Century Wire says It s a familiar theme. ...</td>\n",
              "      <td>Middle-east</td>\n",
              "      <td>January 16, 2016</td>\n",
              "      <td>0</td>\n",
              "    </tr>\n",
              "    <tr>\n",
              "      <th>23478</th>\n",
              "      <td>Sunnistan: US and Allied ‘Safe Zone’ Plan to T...</td>\n",
              "      <td>Patrick Henningsen  21st Century WireRemember ...</td>\n",
              "      <td>Middle-east</td>\n",
              "      <td>January 15, 2016</td>\n",
              "      <td>0</td>\n",
              "    </tr>\n",
              "    <tr>\n",
              "      <th>23479</th>\n",
              "      <td>How to Blow $700 Million: Al Jazeera America F...</td>\n",
              "      <td>21st Century Wire says Al Jazeera America will...</td>\n",
              "      <td>Middle-east</td>\n",
              "      <td>January 14, 2016</td>\n",
              "      <td>0</td>\n",
              "    </tr>\n",
              "    <tr>\n",
              "      <th>23480</th>\n",
              "      <td>10 U.S. Navy Sailors Held by Iranian Military ...</td>\n",
              "      <td>21st Century Wire says As 21WIRE predicted in ...</td>\n",
              "      <td>Middle-east</td>\n",
              "      <td>January 12, 2016</td>\n",
              "      <td>0</td>\n",
              "    </tr>\n",
              "  </tbody>\n",
              "</table>\n",
              "</div>"
            ],
            "text/plain": [
              "                                                   title   \n",
              "23471  Seven Iranians freed in the prisoner swap have...  \\\n",
              "23472                      #Hashtag Hell & The Fake Left   \n",
              "23473  Astroturfing: Journalist Reveals Brainwashing ...   \n",
              "23474          The New American Century: An Era of Fraud   \n",
              "23475  Hillary Clinton: ‘Israel First’ (and no peace ...   \n",
              "23476  McPain: John McCain Furious That Iran Treated ...   \n",
              "23477  JUSTICE? Yahoo Settles E-mail Privacy Class-ac...   \n",
              "23478  Sunnistan: US and Allied ‘Safe Zone’ Plan to T...   \n",
              "23479  How to Blow $700 Million: Al Jazeera America F...   \n",
              "23480  10 U.S. Navy Sailors Held by Iranian Military ...   \n",
              "\n",
              "                                                    text      subject   \n",
              "23471  21st Century Wire says This week, the historic...  Middle-east  \\\n",
              "23472   By Dady Chery and Gilbert MercierAll writers ...  Middle-east   \n",
              "23473  Vic Bishop Waking TimesOur reality is carefull...  Middle-east   \n",
              "23474  Paul Craig RobertsIn the last years of the 20t...  Middle-east   \n",
              "23475  Robert Fantina CounterpunchAlthough the United...  Middle-east   \n",
              "23476  21st Century Wire says As 21WIRE reported earl...  Middle-east   \n",
              "23477  21st Century Wire says It s a familiar theme. ...  Middle-east   \n",
              "23478  Patrick Henningsen  21st Century WireRemember ...  Middle-east   \n",
              "23479  21st Century Wire says Al Jazeera America will...  Middle-east   \n",
              "23480  21st Century Wire says As 21WIRE predicted in ...  Middle-east   \n",
              "\n",
              "                   date  class  \n",
              "23471  January 20, 2016      0  \n",
              "23472  January 19, 2016      0  \n",
              "23473  January 19, 2016      0  \n",
              "23474  January 19, 2016      0  \n",
              "23475  January 18, 2016      0  \n",
              "23476  January 16, 2016      0  \n",
              "23477  January 16, 2016      0  \n",
              "23478  January 15, 2016      0  \n",
              "23479  January 14, 2016      0  \n",
              "23480  January 12, 2016      0  "
            ]
          },
          "execution_count": 11,
          "metadata": {},
          "output_type": "execute_result"
        }
      ],
      "source": [
        "df_fake_manual_testing.head(10)"
      ]
    },
    {
      "cell_type": "code",
      "execution_count": 12,
      "id": "4eb4d963",
      "metadata": {
        "colab": {
          "base_uri": "https://localhost:8080/",
          "height": 580
        },
        "id": "4eb4d963",
        "outputId": "26c9c5f2-1778-485f-c0af-dbeb3ad19dd6"
      },
      "outputs": [
        {
          "data": {
            "text/html": [
              "<div>\n",
              "<style scoped>\n",
              "    .dataframe tbody tr th:only-of-type {\n",
              "        vertical-align: middle;\n",
              "    }\n",
              "\n",
              "    .dataframe tbody tr th {\n",
              "        vertical-align: top;\n",
              "    }\n",
              "\n",
              "    .dataframe thead th {\n",
              "        text-align: right;\n",
              "    }\n",
              "</style>\n",
              "<table border=\"1\" class=\"dataframe\">\n",
              "  <thead>\n",
              "    <tr style=\"text-align: right;\">\n",
              "      <th></th>\n",
              "      <th>title</th>\n",
              "      <th>text</th>\n",
              "      <th>subject</th>\n",
              "      <th>date</th>\n",
              "      <th>class</th>\n",
              "    </tr>\n",
              "  </thead>\n",
              "  <tbody>\n",
              "    <tr>\n",
              "      <th>21407</th>\n",
              "      <td>Mata Pires, owner of embattled Brazil builder ...</td>\n",
              "      <td>SAO PAULO (Reuters) - Cesar Mata Pires, the ow...</td>\n",
              "      <td>worldnews</td>\n",
              "      <td>August 22, 2017</td>\n",
              "      <td>1</td>\n",
              "    </tr>\n",
              "    <tr>\n",
              "      <th>21408</th>\n",
              "      <td>U.S., North Korea clash at U.N. forum over nuc...</td>\n",
              "      <td>GENEVA (Reuters) - North Korea and the United ...</td>\n",
              "      <td>worldnews</td>\n",
              "      <td>August 22, 2017</td>\n",
              "      <td>1</td>\n",
              "    </tr>\n",
              "    <tr>\n",
              "      <th>21409</th>\n",
              "      <td>U.S., North Korea clash at U.N. arms forum on ...</td>\n",
              "      <td>GENEVA (Reuters) - North Korea and the United ...</td>\n",
              "      <td>worldnews</td>\n",
              "      <td>August 22, 2017</td>\n",
              "      <td>1</td>\n",
              "    </tr>\n",
              "    <tr>\n",
              "      <th>21410</th>\n",
              "      <td>Headless torso could belong to submarine journ...</td>\n",
              "      <td>COPENHAGEN (Reuters) - Danish police said on T...</td>\n",
              "      <td>worldnews</td>\n",
              "      <td>August 22, 2017</td>\n",
              "      <td>1</td>\n",
              "    </tr>\n",
              "    <tr>\n",
              "      <th>21411</th>\n",
              "      <td>North Korea shipments to Syria chemical arms a...</td>\n",
              "      <td>UNITED NATIONS (Reuters) - Two North Korean sh...</td>\n",
              "      <td>worldnews</td>\n",
              "      <td>August 21, 2017</td>\n",
              "      <td>1</td>\n",
              "    </tr>\n",
              "    <tr>\n",
              "      <th>21412</th>\n",
              "      <td>'Fully committed' NATO backs new U.S. approach...</td>\n",
              "      <td>BRUSSELS (Reuters) - NATO allies on Tuesday we...</td>\n",
              "      <td>worldnews</td>\n",
              "      <td>August 22, 2017</td>\n",
              "      <td>1</td>\n",
              "    </tr>\n",
              "    <tr>\n",
              "      <th>21413</th>\n",
              "      <td>LexisNexis withdrew two products from Chinese ...</td>\n",
              "      <td>LONDON (Reuters) - LexisNexis, a provider of l...</td>\n",
              "      <td>worldnews</td>\n",
              "      <td>August 22, 2017</td>\n",
              "      <td>1</td>\n",
              "    </tr>\n",
              "    <tr>\n",
              "      <th>21414</th>\n",
              "      <td>Minsk cultural hub becomes haven from authorities</td>\n",
              "      <td>MINSK (Reuters) - In the shadow of disused Sov...</td>\n",
              "      <td>worldnews</td>\n",
              "      <td>August 22, 2017</td>\n",
              "      <td>1</td>\n",
              "    </tr>\n",
              "    <tr>\n",
              "      <th>21415</th>\n",
              "      <td>Vatican upbeat on possibility of Pope Francis ...</td>\n",
              "      <td>MOSCOW (Reuters) - Vatican Secretary of State ...</td>\n",
              "      <td>worldnews</td>\n",
              "      <td>August 22, 2017</td>\n",
              "      <td>1</td>\n",
              "    </tr>\n",
              "    <tr>\n",
              "      <th>21416</th>\n",
              "      <td>Indonesia to buy $1.14 billion worth of Russia...</td>\n",
              "      <td>JAKARTA (Reuters) - Indonesia will buy 11 Sukh...</td>\n",
              "      <td>worldnews</td>\n",
              "      <td>August 22, 2017</td>\n",
              "      <td>1</td>\n",
              "    </tr>\n",
              "  </tbody>\n",
              "</table>\n",
              "</div>"
            ],
            "text/plain": [
              "                                                   title   \n",
              "21407  Mata Pires, owner of embattled Brazil builder ...  \\\n",
              "21408  U.S., North Korea clash at U.N. forum over nuc...   \n",
              "21409  U.S., North Korea clash at U.N. arms forum on ...   \n",
              "21410  Headless torso could belong to submarine journ...   \n",
              "21411  North Korea shipments to Syria chemical arms a...   \n",
              "21412  'Fully committed' NATO backs new U.S. approach...   \n",
              "21413  LexisNexis withdrew two products from Chinese ...   \n",
              "21414  Minsk cultural hub becomes haven from authorities   \n",
              "21415  Vatican upbeat on possibility of Pope Francis ...   \n",
              "21416  Indonesia to buy $1.14 billion worth of Russia...   \n",
              "\n",
              "                                                    text    subject   \n",
              "21407  SAO PAULO (Reuters) - Cesar Mata Pires, the ow...  worldnews  \\\n",
              "21408  GENEVA (Reuters) - North Korea and the United ...  worldnews   \n",
              "21409  GENEVA (Reuters) - North Korea and the United ...  worldnews   \n",
              "21410  COPENHAGEN (Reuters) - Danish police said on T...  worldnews   \n",
              "21411  UNITED NATIONS (Reuters) - Two North Korean sh...  worldnews   \n",
              "21412  BRUSSELS (Reuters) - NATO allies on Tuesday we...  worldnews   \n",
              "21413  LONDON (Reuters) - LexisNexis, a provider of l...  worldnews   \n",
              "21414  MINSK (Reuters) - In the shadow of disused Sov...  worldnews   \n",
              "21415  MOSCOW (Reuters) - Vatican Secretary of State ...  worldnews   \n",
              "21416  JAKARTA (Reuters) - Indonesia will buy 11 Sukh...  worldnews   \n",
              "\n",
              "                   date  class  \n",
              "21407  August 22, 2017       1  \n",
              "21408  August 22, 2017       1  \n",
              "21409  August 22, 2017       1  \n",
              "21410  August 22, 2017       1  \n",
              "21411  August 21, 2017       1  \n",
              "21412  August 22, 2017       1  \n",
              "21413  August 22, 2017       1  \n",
              "21414  August 22, 2017       1  \n",
              "21415  August 22, 2017       1  \n",
              "21416  August 22, 2017       1  "
            ]
          },
          "execution_count": 12,
          "metadata": {},
          "output_type": "execute_result"
        }
      ],
      "source": [
        "df_true_manual_testing.head(10)"
      ]
    },
    {
      "cell_type": "markdown",
      "id": "0f86eed4",
      "metadata": {
        "id": "0f86eed4"
      },
      "source": [
        "### Merging True and Fake Dataframes"
      ]
    },
    {
      "cell_type": "code",
      "execution_count": 13,
      "id": "854399e9",
      "metadata": {
        "id": "854399e9"
      },
      "outputs": [],
      "source": [
        "df_manual_testing = pd.concat([df_fake_manual_testing,df_true_manual_testing], axis = 0)\n",
        "df_manual_testing.to_csv(\"manual_testing.csv\")"
      ]
    },
    {
      "cell_type": "code",
      "execution_count": 14,
      "id": "4043b913",
      "metadata": {
        "colab": {
          "base_uri": "https://localhost:8080/",
          "height": 580
        },
        "id": "4043b913",
        "outputId": "a06ad2fe-e0b6-4b03-c575-5244ef183fc4"
      },
      "outputs": [
        {
          "data": {
            "text/html": [
              "<div>\n",
              "<style scoped>\n",
              "    .dataframe tbody tr th:only-of-type {\n",
              "        vertical-align: middle;\n",
              "    }\n",
              "\n",
              "    .dataframe tbody tr th {\n",
              "        vertical-align: top;\n",
              "    }\n",
              "\n",
              "    .dataframe thead th {\n",
              "        text-align: right;\n",
              "    }\n",
              "</style>\n",
              "<table border=\"1\" class=\"dataframe\">\n",
              "  <thead>\n",
              "    <tr style=\"text-align: right;\">\n",
              "      <th></th>\n",
              "      <th>title</th>\n",
              "      <th>text</th>\n",
              "      <th>subject</th>\n",
              "      <th>date</th>\n",
              "      <th>class</th>\n",
              "    </tr>\n",
              "  </thead>\n",
              "  <tbody>\n",
              "    <tr>\n",
              "      <th>0</th>\n",
              "      <td>Donald Trump Sends Out Embarrassing New Year’...</td>\n",
              "      <td>Donald Trump just couldn t wish all Americans ...</td>\n",
              "      <td>News</td>\n",
              "      <td>December 31, 2017</td>\n",
              "      <td>0</td>\n",
              "    </tr>\n",
              "    <tr>\n",
              "      <th>1</th>\n",
              "      <td>Drunk Bragging Trump Staffer Started Russian ...</td>\n",
              "      <td>House Intelligence Committee Chairman Devin Nu...</td>\n",
              "      <td>News</td>\n",
              "      <td>December 31, 2017</td>\n",
              "      <td>0</td>\n",
              "    </tr>\n",
              "    <tr>\n",
              "      <th>2</th>\n",
              "      <td>Sheriff David Clarke Becomes An Internet Joke...</td>\n",
              "      <td>On Friday, it was revealed that former Milwauk...</td>\n",
              "      <td>News</td>\n",
              "      <td>December 30, 2017</td>\n",
              "      <td>0</td>\n",
              "    </tr>\n",
              "    <tr>\n",
              "      <th>3</th>\n",
              "      <td>Trump Is So Obsessed He Even Has Obama’s Name...</td>\n",
              "      <td>On Christmas day, Donald Trump announced that ...</td>\n",
              "      <td>News</td>\n",
              "      <td>December 29, 2017</td>\n",
              "      <td>0</td>\n",
              "    </tr>\n",
              "    <tr>\n",
              "      <th>4</th>\n",
              "      <td>Pope Francis Just Called Out Donald Trump Dur...</td>\n",
              "      <td>Pope Francis used his annual Christmas Day mes...</td>\n",
              "      <td>News</td>\n",
              "      <td>December 25, 2017</td>\n",
              "      <td>0</td>\n",
              "    </tr>\n",
              "    <tr>\n",
              "      <th>5</th>\n",
              "      <td>Racist Alabama Cops Brutalize Black Boy While...</td>\n",
              "      <td>The number of cases of cops brutalizing and ki...</td>\n",
              "      <td>News</td>\n",
              "      <td>December 25, 2017</td>\n",
              "      <td>0</td>\n",
              "    </tr>\n",
              "    <tr>\n",
              "      <th>6</th>\n",
              "      <td>Fresh Off The Golf Course, Trump Lashes Out A...</td>\n",
              "      <td>Donald Trump spent a good portion of his day a...</td>\n",
              "      <td>News</td>\n",
              "      <td>December 23, 2017</td>\n",
              "      <td>0</td>\n",
              "    </tr>\n",
              "    <tr>\n",
              "      <th>7</th>\n",
              "      <td>Trump Said Some INSANELY Racist Stuff Inside ...</td>\n",
              "      <td>In the wake of yet another court decision that...</td>\n",
              "      <td>News</td>\n",
              "      <td>December 23, 2017</td>\n",
              "      <td>0</td>\n",
              "    </tr>\n",
              "    <tr>\n",
              "      <th>8</th>\n",
              "      <td>Former CIA Director Slams Trump Over UN Bully...</td>\n",
              "      <td>Many people have raised the alarm regarding th...</td>\n",
              "      <td>News</td>\n",
              "      <td>December 22, 2017</td>\n",
              "      <td>0</td>\n",
              "    </tr>\n",
              "    <tr>\n",
              "      <th>9</th>\n",
              "      <td>WATCH: Brand-New Pro-Trump Ad Features So Muc...</td>\n",
              "      <td>Just when you might have thought we d get a br...</td>\n",
              "      <td>News</td>\n",
              "      <td>December 21, 2017</td>\n",
              "      <td>0</td>\n",
              "    </tr>\n",
              "  </tbody>\n",
              "</table>\n",
              "</div>"
            ],
            "text/plain": [
              "                                               title   \n",
              "0   Donald Trump Sends Out Embarrassing New Year’...  \\\n",
              "1   Drunk Bragging Trump Staffer Started Russian ...   \n",
              "2   Sheriff David Clarke Becomes An Internet Joke...   \n",
              "3   Trump Is So Obsessed He Even Has Obama’s Name...   \n",
              "4   Pope Francis Just Called Out Donald Trump Dur...   \n",
              "5   Racist Alabama Cops Brutalize Black Boy While...   \n",
              "6   Fresh Off The Golf Course, Trump Lashes Out A...   \n",
              "7   Trump Said Some INSANELY Racist Stuff Inside ...   \n",
              "8   Former CIA Director Slams Trump Over UN Bully...   \n",
              "9   WATCH: Brand-New Pro-Trump Ad Features So Muc...   \n",
              "\n",
              "                                                text subject   \n",
              "0  Donald Trump just couldn t wish all Americans ...    News  \\\n",
              "1  House Intelligence Committee Chairman Devin Nu...    News   \n",
              "2  On Friday, it was revealed that former Milwauk...    News   \n",
              "3  On Christmas day, Donald Trump announced that ...    News   \n",
              "4  Pope Francis used his annual Christmas Day mes...    News   \n",
              "5  The number of cases of cops brutalizing and ki...    News   \n",
              "6  Donald Trump spent a good portion of his day a...    News   \n",
              "7  In the wake of yet another court decision that...    News   \n",
              "8  Many people have raised the alarm regarding th...    News   \n",
              "9  Just when you might have thought we d get a br...    News   \n",
              "\n",
              "                date  class  \n",
              "0  December 31, 2017      0  \n",
              "1  December 31, 2017      0  \n",
              "2  December 30, 2017      0  \n",
              "3  December 29, 2017      0  \n",
              "4  December 25, 2017      0  \n",
              "5  December 25, 2017      0  \n",
              "6  December 23, 2017      0  \n",
              "7  December 23, 2017      0  \n",
              "8  December 22, 2017      0  \n",
              "9  December 21, 2017      0  "
            ]
          },
          "execution_count": 14,
          "metadata": {},
          "output_type": "execute_result"
        }
      ],
      "source": [
        "\n",
        "\n",
        "df_merge = pd.concat([df_fake, df_true], axis =0 )\n",
        "df_merge.head(10)\n",
        "\n"
      ]
    },
    {
      "cell_type": "code",
      "execution_count": 15,
      "id": "32ab9ec3",
      "metadata": {
        "colab": {
          "base_uri": "https://localhost:8080/"
        },
        "id": "32ab9ec3",
        "outputId": "8ac6afe0-3010-48ef-a687-3c23ac308c42"
      },
      "outputs": [
        {
          "data": {
            "text/plain": [
              "Index(['title', 'text', 'subject', 'date', 'class'], dtype='object')"
            ]
          },
          "execution_count": 15,
          "metadata": {},
          "output_type": "execute_result"
        }
      ],
      "source": [
        "df_merge.columns"
      ]
    },
    {
      "cell_type": "markdown",
      "id": "402abc0b",
      "metadata": {
        "id": "402abc0b"
      },
      "source": [
        "### Removing columns which are not required"
      ]
    },
    {
      "cell_type": "code",
      "execution_count": 16,
      "id": "c8a15d6e",
      "metadata": {
        "id": "c8a15d6e"
      },
      "outputs": [],
      "source": [
        "df = df_merge.drop([\"title\", \"subject\",\"date\"], axis = 1)"
      ]
    },
    {
      "cell_type": "code",
      "execution_count": 17,
      "id": "fc2c38d4",
      "metadata": {
        "colab": {
          "base_uri": "https://localhost:8080/"
        },
        "id": "fc2c38d4",
        "outputId": "1a4fabf7-58ef-4b4f-86ee-1fc21576755b"
      },
      "outputs": [
        {
          "data": {
            "text/plain": [
              "text     0\n",
              "class    0\n",
              "dtype: int64"
            ]
          },
          "execution_count": 17,
          "metadata": {},
          "output_type": "execute_result"
        }
      ],
      "source": [
        "df.isnull().sum()"
      ]
    },
    {
      "cell_type": "markdown",
      "id": "8a5bd334",
      "metadata": {
        "id": "8a5bd334"
      },
      "source": [
        "### Random Shuffling the dataframe"
      ]
    },
    {
      "cell_type": "code",
      "execution_count": 18,
      "id": "6b34f5fb",
      "metadata": {
        "id": "6b34f5fb"
      },
      "outputs": [],
      "source": [
        "df = df.sample(frac = 1)"
      ]
    },
    {
      "cell_type": "code",
      "execution_count": 19,
      "id": "d091c3aa",
      "metadata": {
        "colab": {
          "base_uri": "https://localhost:8080/",
          "height": 206
        },
        "id": "d091c3aa",
        "outputId": "8276233f-5ac3-47a4-a4e1-f5dad7d18426"
      },
      "outputs": [
        {
          "data": {
            "text/html": [
              "<div>\n",
              "<style scoped>\n",
              "    .dataframe tbody tr th:only-of-type {\n",
              "        vertical-align: middle;\n",
              "    }\n",
              "\n",
              "    .dataframe tbody tr th {\n",
              "        vertical-align: top;\n",
              "    }\n",
              "\n",
              "    .dataframe thead th {\n",
              "        text-align: right;\n",
              "    }\n",
              "</style>\n",
              "<table border=\"1\" class=\"dataframe\">\n",
              "  <thead>\n",
              "    <tr style=\"text-align: right;\">\n",
              "      <th></th>\n",
              "      <th>text</th>\n",
              "      <th>class</th>\n",
              "    </tr>\n",
              "  </thead>\n",
              "  <tbody>\n",
              "    <tr>\n",
              "      <th>13291</th>\n",
              "      <td>DUBAI (Reuters) - Former Egyptian prime minist...</td>\n",
              "      <td>1</td>\n",
              "    </tr>\n",
              "    <tr>\n",
              "      <th>17745</th>\n",
              "      <td>BEIRUT (Reuters) - Three men blew themselves u...</td>\n",
              "      <td>1</td>\n",
              "    </tr>\n",
              "    <tr>\n",
              "      <th>1313</th>\n",
              "      <td>Wednesday morning, Donald Trump brought the wo...</td>\n",
              "      <td>0</td>\n",
              "    </tr>\n",
              "    <tr>\n",
              "      <th>15917</th>\n",
              "      <td>President Trump announced the release of the r...</td>\n",
              "      <td>0</td>\n",
              "    </tr>\n",
              "    <tr>\n",
              "      <th>12168</th>\n",
              "      <td>BRASILIA (Reuters) - Brazil s government has s...</td>\n",
              "      <td>1</td>\n",
              "    </tr>\n",
              "  </tbody>\n",
              "</table>\n",
              "</div>"
            ],
            "text/plain": [
              "                                                    text  class\n",
              "13291  DUBAI (Reuters) - Former Egyptian prime minist...      1\n",
              "17745  BEIRUT (Reuters) - Three men blew themselves u...      1\n",
              "1313   Wednesday morning, Donald Trump brought the wo...      0\n",
              "15917  President Trump announced the release of the r...      0\n",
              "12168  BRASILIA (Reuters) - Brazil s government has s...      1"
            ]
          },
          "execution_count": 19,
          "metadata": {},
          "output_type": "execute_result"
        }
      ],
      "source": [
        "df.head()"
      ]
    },
    {
      "cell_type": "code",
      "execution_count": 20,
      "id": "ff89e337",
      "metadata": {
        "id": "ff89e337"
      },
      "outputs": [],
      "source": [
        "\n",
        "\n",
        "df.reset_index(inplace = True)\n",
        "df.drop([\"index\"], axis = 1, inplace = True)\n",
        "\n"
      ]
    },
    {
      "cell_type": "code",
      "execution_count": 21,
      "id": "5a88b26a",
      "metadata": {
        "colab": {
          "base_uri": "https://localhost:8080/"
        },
        "id": "5a88b26a",
        "outputId": "fa89be33-f276-4aeb-959a-54154d6b4e92"
      },
      "outputs": [
        {
          "data": {
            "text/plain": [
              "Index(['text', 'class'], dtype='object')"
            ]
          },
          "execution_count": 21,
          "metadata": {},
          "output_type": "execute_result"
        }
      ],
      "source": [
        "df.columns"
      ]
    },
    {
      "cell_type": "code",
      "execution_count": 22,
      "id": "be4ae197",
      "metadata": {
        "colab": {
          "base_uri": "https://localhost:8080/",
          "height": 206
        },
        "id": "be4ae197",
        "outputId": "84a1b6b0-28bb-4b8e-bb75-52ad61be80bd"
      },
      "outputs": [
        {
          "data": {
            "text/html": [
              "<div>\n",
              "<style scoped>\n",
              "    .dataframe tbody tr th:only-of-type {\n",
              "        vertical-align: middle;\n",
              "    }\n",
              "\n",
              "    .dataframe tbody tr th {\n",
              "        vertical-align: top;\n",
              "    }\n",
              "\n",
              "    .dataframe thead th {\n",
              "        text-align: right;\n",
              "    }\n",
              "</style>\n",
              "<table border=\"1\" class=\"dataframe\">\n",
              "  <thead>\n",
              "    <tr style=\"text-align: right;\">\n",
              "      <th></th>\n",
              "      <th>text</th>\n",
              "      <th>class</th>\n",
              "    </tr>\n",
              "  </thead>\n",
              "  <tbody>\n",
              "    <tr>\n",
              "      <th>0</th>\n",
              "      <td>DUBAI (Reuters) - Former Egyptian prime minist...</td>\n",
              "      <td>1</td>\n",
              "    </tr>\n",
              "    <tr>\n",
              "      <th>1</th>\n",
              "      <td>BEIRUT (Reuters) - Three men blew themselves u...</td>\n",
              "      <td>1</td>\n",
              "    </tr>\n",
              "    <tr>\n",
              "      <th>2</th>\n",
              "      <td>Wednesday morning, Donald Trump brought the wo...</td>\n",
              "      <td>0</td>\n",
              "    </tr>\n",
              "    <tr>\n",
              "      <th>3</th>\n",
              "      <td>President Trump announced the release of the r...</td>\n",
              "      <td>0</td>\n",
              "    </tr>\n",
              "    <tr>\n",
              "      <th>4</th>\n",
              "      <td>BRASILIA (Reuters) - Brazil s government has s...</td>\n",
              "      <td>1</td>\n",
              "    </tr>\n",
              "  </tbody>\n",
              "</table>\n",
              "</div>"
            ],
            "text/plain": [
              "                                                text  class\n",
              "0  DUBAI (Reuters) - Former Egyptian prime minist...      1\n",
              "1  BEIRUT (Reuters) - Three men blew themselves u...      1\n",
              "2  Wednesday morning, Donald Trump brought the wo...      0\n",
              "3  President Trump announced the release of the r...      0\n",
              "4  BRASILIA (Reuters) - Brazil s government has s...      1"
            ]
          },
          "execution_count": 22,
          "metadata": {},
          "output_type": "execute_result"
        }
      ],
      "source": [
        "df.head()"
      ]
    },
    {
      "cell_type": "markdown",
      "id": "89466d22",
      "metadata": {
        "id": "89466d22"
      },
      "source": [
        "### Function to process the texts"
      ]
    },
    {
      "cell_type": "code",
      "execution_count": 23,
      "id": "483c55d2",
      "metadata": {
        "id": "483c55d2"
      },
      "outputs": [],
      "source": [
        "\n",
        "\n",
        "def wordopt(text):\n",
        "    text = text.lower()\n",
        "    text = re.sub('\\[.*?\\]', '', text)\n",
        "    text = re.sub(\"\\\\W\",\" \",text)\n",
        "    text = re.sub('https?://\\S+|www\\.\\S+', '', text)\n",
        "    text = re.sub('<.*?>+', '', text)\n",
        "    text = re.sub('[%s]' % re.escape(string.punctuation), '', text)\n",
        "    text = re.sub('\\n', '', text)\n",
        "    text = re.sub('\\w*\\d\\w*', '', text)\n",
        "    return text\n",
        "\n"
      ]
    },
    {
      "cell_type": "code",
      "execution_count": 24,
      "id": "795df72b",
      "metadata": {
        "id": "795df72b"
      },
      "outputs": [],
      "source": [
        "df[\"text\"] = df[\"text\"].apply(wordopt)"
      ]
    },
    {
      "cell_type": "code",
      "execution_count": 25,
      "id": "afa11315",
      "metadata": {
        "id": "afa11315"
      },
      "outputs": [],
      "source": [
        "x = df[\"text\"]\n",
        "y = df[\"class\"]"
      ]
    },
    {
      "cell_type": "code",
      "execution_count": 26,
      "id": "d93c8ac6",
      "metadata": {
        "id": "d93c8ac6"
      },
      "outputs": [],
      "source": [
        "x_train, x_test, y_train, y_test = train_test_split(x, y, test_size=0.5)"
      ]
    },
    {
      "cell_type": "markdown",
      "id": "6ad820dd",
      "metadata": {
        "id": "6ad820dd"
      },
      "source": [
        "### Convert text to vectors"
      ]
    },
    {
      "cell_type": "code",
      "execution_count": 27,
      "id": "b7cb0c8a",
      "metadata": {
        "id": "b7cb0c8a"
      },
      "outputs": [],
      "source": [
        "from sklearn.feature_extraction.text import TfidfVectorizer\n",
        "\n",
        "vectorization = TfidfVectorizer()\n",
        "xv_train = vectorization.fit_transform(x_train)\n",
        "xv_test = vectorization.transform(x_test)"
      ]
    },
    {
      "attachments": {},
      "cell_type": "markdown",
      "id": "018c0052",
      "metadata": {
        "id": "018c0052"
      },
      "source": [
        "### Label Propagation - RBF - 20%"
      ]
    },
    {
      "cell_type": "code",
      "execution_count": 28,
      "id": "3654bd89",
      "metadata": {
        "id": "3654bd89"
      },
      "outputs": [
        {
          "name": "stdout",
          "output_type": "stream",
          "text": [
            "{0: 2316, 1: 2172, -1: 17951}\n"
          ]
        },
        {
          "name": "stderr",
          "output_type": "stream",
          "text": [
            "/home/idc-evo/.local/lib/python3.10/site-packages/sklearn/semi_supervised/_label_propagation.py:322: ConvergenceWarning: max_iter=23000 was reached without convergence.\n",
            "  warnings.warn(\n"
          ]
        },
        {
          "name": "stdout",
          "output_type": "stream",
          "text": [
            "0.582378893890102\n",
            "              precision    recall  f1-score   support\n",
            "\n",
            "           0       0.56      1.00      0.72     11825\n",
            "           1       0.96      0.12      0.22     10614\n",
            "\n",
            "    accuracy                           0.58     22439\n",
            "   macro avg       0.76      0.56      0.47     22439\n",
            "weighted avg       0.75      0.58      0.48     22439\n",
            "\n"
          ]
        }
      ],
      "source": [
        "from itertools import count\n",
        "from sklearn.semi_supervised import LabelPropagation\n",
        "from collections import Counter\n",
        "\n",
        "label_prop_model = LabelPropagation(kernel = \"rbf\", max_iter=23000)\n",
        "labels = np.copy(y_train)\n",
        "\n",
        "for index, label in enumerate(labels):\n",
        "    if index > 4487:\n",
        "        labels[index] = -1\n",
        "\n",
        "print(dict(Counter(labels)))\n",
        "label_prop_model.fit(xv_train, labels)\n",
        "\n",
        "pred_label_prop_model = label_prop_model.predict(xv_test)\n",
        "\n",
        "label_prop_model_result = label_prop_model.score(xv_test, y_test)\n",
        "print(label_prop_model_result)\n",
        "\n",
        "print(classification_report(y_test, pred_label_prop_model))"
      ]
    },
    {
      "cell_type": "markdown",
      "id": "6d3d55fa",
      "metadata": {
        "id": "6d3d55fa"
      },
      "source": [
        "### Confusion Matrix"
      ]
    },
    {
      "cell_type": "code",
      "execution_count": 29,
      "id": "1f56ded9",
      "metadata": {
        "id": "1f56ded9"
      },
      "outputs": [
        {
          "data": {
            "image/png": "[encoded data removed]",
            "text/plain": [
              "<Figure size 640x480 with 2 Axes>"
            ]
          },
          "metadata": {},
          "output_type": "display_data"
        }
      ],
      "source": [
        "cm = confusion_matrix(y_test, pred_label_prop_model)\n",
        "make_confusion_matrix(cf= cm)"
      ]
    },
    {
      "cell_type": "markdown",
      "id": "bd95d70c",
      "metadata": {},
      "source": [
        "### Label Propagation - RBF - 50%"
      ]
    },
    {
      "cell_type": "code",
      "execution_count": 30,
      "id": "04ba39c7",
      "metadata": {},
      "outputs": [
        {
          "name": "stdout",
          "output_type": "stream",
          "text": [
            "{0: 5797, 1: 5423, -1: 11219}\n"
          ]
        }
      ],
      "source": [
        "label_prop_model = LabelPropagation(kernel = \"rbf\", max_iter=23000)\n",
        "labels = np.copy(y_train)\n",
        "\n",
        "for index, label in enumerate(labels):\n",
        "    if index > 11219:\n",
        "        labels[index] = -1\n",
        "\n",
        "print(dict(Counter(labels)))\n",
        "label_prop_model.fit(xv_train, labels)\n",
        "\n",
        "pred_label_prop_model = label_prop_model.predict(xv_test)\n",
        "\n",
        "label_prop_model_result = label_prop_model.score(xv_test, y_test)\n",
        "print(label_prop_model_result)\n",
        "\n",
        "print(classification_report(y_test, pred_label_prop_model))"
      ]
    },
    {
      "cell_type": "markdown",
      "id": "64526de7",
      "metadata": {},
      "source": [
        "### Confusion Matrix"
      ]
    },
    {
      "cell_type": "code",
      "execution_count": null,
      "id": "529dfbab",
      "metadata": {},
      "outputs": [
        {
          "data": {
            "image/png": "[encoded data removed]",
            "text/plain": [
              "<Figure size 640x480 with 2 Axes>"
            ]
          },
          "metadata": {},
          "output_type": "display_data"
        }
      ],
      "source": [
        "cm = confusion_matrix(y_test, pred_label_prop_model)\n",
        "make_confusion_matrix(cf= cm)"
      ]
    },
    {
      "cell_type": "markdown",
      "id": "826b00eb",
      "metadata": {},
      "source": [
        "### Label Propagation - RBF - 80%"
      ]
    },
    {
      "cell_type": "code",
      "execution_count": null,
      "id": "55b6c263",
      "metadata": {},
      "outputs": [
        {
          "name": "stdout",
          "output_type": "stream",
          "text": [
            "{1: 4204, 0: 4182, -1: 2095}\n",
            "0.5197977292243107\n",
            "              precision    recall  f1-score   support\n",
            "\n",
            "           0       0.52      0.56      0.54      5223\n",
            "           1       0.52      0.48      0.50      5258\n",
            "\n",
            "    accuracy                           0.52     10481\n",
            "   macro avg       0.52      0.52      0.52     10481\n",
            "weighted avg       0.52      0.52      0.52     10481\n",
            "\n"
          ]
        }
      ],
      "source": [
        "label_prop_model = LabelPropagation(kernel = \"rbf\", max_iter=23000)\n",
        "labels = np.copy(y_train)\n",
        "\n",
        "for index, label in enumerate(labels):\n",
        "    if index > 17950:\n",
        "        labels[index] = -1\n",
        "\n",
        "print(dict(Counter(labels)))\n",
        "label_prop_model.fit(xv_train, labels)\n",
        "\n",
        "pred_label_prop_model = label_prop_model.predict(xv_test)\n",
        "\n",
        "label_prop_model_result = label_prop_model.score(xv_test, y_test)\n",
        "print(label_prop_model_result)\n",
        "\n",
        "print(classification_report(y_test, pred_label_prop_model))"
      ]
    },
    {
      "cell_type": "markdown",
      "id": "de99e913",
      "metadata": {},
      "source": [
        "### Confusion Matrix"
      ]
    },
    {
      "cell_type": "code",
      "execution_count": null,
      "id": "6484691f",
      "metadata": {},
      "outputs": [
        {
          "data": {
            "image/png": "[encoded data removed]",
            "text/plain": [
              "<Figure size 640x480 with 2 Axes>"
            ]
          },
          "metadata": {},
          "output_type": "display_data"
        }
      ],
      "source": [
        "cm = confusion_matrix(y_test, pred_label_prop_model)\n",
        "make_confusion_matrix(cf= cm)"
      ]
    },
    {
      "cell_type": "markdown",
      "id": "05909d42",
      "metadata": {},
      "source": [
        "### Label Propagation - KNN - 20%"
      ]
    },
    {
      "cell_type": "code",
      "execution_count": null,
      "id": "30651954",
      "metadata": {},
      "outputs": [
        {
          "name": "stdout",
          "output_type": "stream",
          "text": [
            "{1: 1089, 0: 1008, -1: 8384}\n"
          ]
        },
        {
          "name": "stderr",
          "output_type": "stream",
          "text": [
            "/home/idc-evo/.local/lib/python3.10/site-packages/sklearn/semi_supervised/_label_propagation.py:230: RuntimeWarning: invalid value encountered in divide\n",
            "  probabilities /= normalizer\n"
          ]
        },
        {
          "name": "stdout",
          "output_type": "stream",
          "text": [
            "0.4872626657761664\n",
            "              precision    recall  f1-score   support\n",
            "\n",
            "           0       0.49      0.87      0.63      5223\n",
            "           1       0.45      0.11      0.18      5258\n",
            "\n",
            "    accuracy                           0.49     10481\n",
            "   macro avg       0.47      0.49      0.40     10481\n",
            "weighted avg       0.47      0.49      0.40     10481\n",
            "\n"
          ]
        }
      ],
      "source": [
        "from itertools import count\n",
        "from sklearn.semi_supervised import LabelPropagation\n",
        "from collections import Counter\n",
        "\n",
        "label_prop_model = LabelPropagation(kernel = \"knn\", max_iter=23000, n_neighbors=1)\n",
        "labels = np.copy(y_train)\n",
        "\n",
        "for index, label in enumerate(labels):\n",
        "    if index > 4487:\n",
        "        labels[index] = -1\n",
        "\n",
        "print(dict(Counter(labels)))\n",
        "label_prop_model.fit(xv_train, labels)\n",
        "\n",
        "pred_label_prop_model = label_prop_model.predict(xv_test)\n",
        "\n",
        "label_prop_model_result = label_prop_model.score(xv_test, y_test)\n",
        "print(label_prop_model_result)\n",
        "\n",
        "print(classification_report(y_test, pred_label_prop_model))"
      ]
    },
    {
      "cell_type": "markdown",
      "id": "a728bd94",
      "metadata": {},
      "source": [
        "### Confusion Matrix"
      ]
    },
    {
      "cell_type": "code",
      "execution_count": null,
      "id": "3c32ca1c",
      "metadata": {},
      "outputs": [
        {
          "data": {
            "image/png": "[encoded data removed]",
            "text/plain": [
              "<Figure size 640x480 with 2 Axes>"
            ]
          },
          "metadata": {},
          "output_type": "display_data"
        }
      ],
      "source": [
        "cm = confusion_matrix(y_test, pred_label_prop_model)\n",
        "make_confusion_matrix(cf= cm)"
      ]
    },
    {
      "cell_type": "markdown",
      "id": "9d3346c3",
      "metadata": {},
      "source": [
        "### Label Propagation - KNN - 50%"
      ]
    },
    {
      "cell_type": "code",
      "execution_count": null,
      "id": "5ca9f908",
      "metadata": {},
      "outputs": [
        {
          "name": "stdout",
          "output_type": "stream",
          "text": [
            "{1: 2629, 0: 2612, -1: 5240}\n"
          ]
        },
        {
          "name": "stderr",
          "output_type": "stream",
          "text": [
            "/home/idc-evo/.local/lib/python3.10/site-packages/sklearn/semi_supervised/_label_propagation.py:230: RuntimeWarning: invalid value encountered in divide\n",
            "  probabilities /= normalizer\n"
          ]
        },
        {
          "name": "stdout",
          "output_type": "stream",
          "text": [
            "0.4844003434786757\n",
            "              precision    recall  f1-score   support\n",
            "\n",
            "           0       0.49      0.72      0.58      5223\n",
            "           1       0.47      0.25      0.33      5258\n",
            "\n",
            "    accuracy                           0.48     10481\n",
            "   macro avg       0.48      0.49      0.46     10481\n",
            "weighted avg       0.48      0.48      0.46     10481\n",
            "\n"
          ]
        }
      ],
      "source": [
        "label_prop_model = LabelPropagation(kernel = \"knn\", max_iter=23000, n_neighbors=1)\n",
        "labels = np.copy(y_train)\n",
        "\n",
        "for index, label in enumerate(labels):\n",
        "    if index > 11219:\n",
        "        labels[index] = -1\n",
        "\n",
        "print(dict(Counter(labels)))\n",
        "label_prop_model.fit(xv_train, labels)\n",
        "\n",
        "pred_label_prop_model = label_prop_model.predict(xv_test)\n",
        "\n",
        "label_prop_model_result = label_prop_model.score(xv_test, y_test)\n",
        "print(label_prop_model_result)\n",
        "\n",
        "print(classification_report(y_test, pred_label_prop_model))"
      ]
    },
    {
      "cell_type": "markdown",
      "id": "bf129ebf",
      "metadata": {},
      "source": [
        "### Confusion Matrix"
      ]
    },
    {
      "cell_type": "code",
      "execution_count": null,
      "id": "98d3a334",
      "metadata": {},
      "outputs": [
        {
          "data": {
            "image/png": "[encoded data removed]",
            "text/plain": [
              "<Figure size 640x480 with 2 Axes>"
            ]
          },
          "metadata": {},
          "output_type": "display_data"
        }
      ],
      "source": [
        "cm = confusion_matrix(y_test, pred_label_prop_model)\n",
        "make_confusion_matrix(cf= cm)"
      ]
    },
    {
      "cell_type": "markdown",
      "id": "2511faa4",
      "metadata": {},
      "source": [
        "### Label Propagation - KNN - 80%"
      ]
    },
    {
      "cell_type": "code",
      "execution_count": null,
      "id": "c86f73fd",
      "metadata": {},
      "outputs": [
        {
          "name": "stdout",
          "output_type": "stream",
          "text": [
            "{1: 4204, 0: 4182, -1: 2095}\n"
          ]
        },
        {
          "name": "stderr",
          "output_type": "stream",
          "text": [
            "/home/idc-evo/.local/lib/python3.10/site-packages/sklearn/semi_supervised/_label_propagation.py:230: RuntimeWarning: invalid value encountered in divide\n",
            "  probabilities /= normalizer\n"
          ]
        },
        {
          "name": "stdout",
          "output_type": "stream",
          "text": [
            "0.4760996088159527\n",
            "              precision    recall  f1-score   support\n",
            "\n",
            "           0       0.48      0.55      0.51      5223\n",
            "           1       0.47      0.40      0.44      5258\n",
            "\n",
            "    accuracy                           0.48     10481\n",
            "   macro avg       0.48      0.48      0.47     10481\n",
            "weighted avg       0.48      0.48      0.47     10481\n",
            "\n"
          ]
        }
      ],
      "source": [
        "label_prop_model = LabelPropagation(kernel = \"knn\", max_iter=23000, n_neighbors=1)\n",
        "labels = np.copy(y_train)\n",
        "\n",
        "for index, label in enumerate(labels):\n",
        "    if index > 17950:\n",
        "        labels[index] = -1\n",
        "\n",
        "print(dict(Counter(labels)))\n",
        "label_prop_model.fit(xv_train, labels)\n",
        "\n",
        "pred_label_prop_model = label_prop_model.predict(xv_test)\n",
        "\n",
        "label_prop_model_result = label_prop_model.score(xv_test, y_test)\n",
        "print(label_prop_model_result)\n",
        "\n",
        "print(classification_report(y_test, pred_label_prop_model))"
      ]
    },
    {
      "cell_type": "markdown",
      "id": "8511662b",
      "metadata": {},
      "source": [
        "### Confusion Matrix"
      ]
    },
    {
      "cell_type": "code",
      "execution_count": null,
      "id": "039eaa8c",
      "metadata": {},
      "outputs": [
        {
          "data": {
            "image/png": "[encoded data removed]",
            "text/plain": [
              "<Figure size 640x480 with 2 Axes>"
            ]
          },
          "metadata": {},
          "output_type": "display_data"
        }
      ],
      "source": [
        "cm = confusion_matrix(y_test, pred_label_prop_model)\n",
        "make_confusion_matrix(cf= cm)"
      ]
    }
  ],
  "metadata": {
    "colab": {
      "provenance": []
    },
    "kernelspec": {
      "display_name": "Python 3 (ipykernel)",
      "language": "python",
      "name": "python3"
    },
    "language_info": {
      "codemirror_mode": {
        "name": "ipython",
        "version": 3
      },
      "file_extension": ".py",
      "mimetype": "text/x-python",
      "name": "python",
      "nbconvert_exporter": "python",
      "pygments_lexer": "ipython3",
      "version": "3.10.12"
    }
  },
  "nbformat": 4,
  "nbformat_minor": 5
}
